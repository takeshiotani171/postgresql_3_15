{
 "cells": [
  {
   "cell_type": "markdown",
   "id": "48d7c8fb",
   "metadata": {},
   "source": [
    "# Portuguese Bank Project\n",
    "___"
   ]
  },
  {
   "cell_type": "markdown",
   "id": "d16ae45f",
   "metadata": {},
   "source": [
    "# プロジェクト概要 \n",
    "\n",
    "\"Portuguese Bank Project\"はポルトガル銀行の電話によるダイレクトマーケティングキャンペーンに関するプロジェクトです。\n",
    "ポルトガル銀行はどのような特徴のある顧客に電話をかけたら定期預金をして貰えるかが知りたいのです。\n",
    "このプロジェクトの目標は顧客リストの中から誰が定期預金をしているかを予想する事です。\n",
    "\n",
    "このプロジェクトで用意されている顧客データの特徴量\n",
    "\n",
    "- age: 年齢\n",
    "- job: 職業　(categorical: 'admin.','blue-collar','entrepreneur','housemaid','management','retired','self-employed','services','student','technician','unemployed','unknown')\n",
    "- marital: 配偶者の有無　(categorical: 'divorced','married','single','unknown'; note: 'divorced' means divorced or widowed)\n",
    "- education: 学歴　(categorical: 'basic.4y','basic.6y','basic.9y','high.school','illiterate','professional.course','university.degree','unknown')\n",
    "- default: 過去にローンの支払いの遅れなどの不履行の有無 (categorical: 'no','yes','unknown')\n",
    "- balance:  口座残高\n",
    "- housing: 住宅ローンの有無 (categorical: 'no','yes','unknown')\n",
    "- loan: 個人ローンの有無 (categorical: 'no','yes','unknown')\n",
    "\n",
    "- contact: 連絡手段 (categorical: 'cellular','telephone')\n",
    "- day: 前回このキャンペーンで連絡を取った日 (categorical: 1 ~ 31)\n",
    "- month: 前回このキャンペーンで連絡を取った月 (categorical: 'jan', 'feb', 'mar', ..., 'nov', 'dec')\n",
    "- duration: 前回このキャンペーンで連絡を取った時に話をした時間(秒)\n",
    "\n",
    "- campaign: この顧客が口座開設後にこのキャンペーンを行った回数\n",
    "- pdays: 前回この顧客にこのキャンペーンで連絡を取った日から何日経過しているか (-1は連絡を取っていないと言う意味)\n",
    "- previous: 過去何回このキャンペーンで連絡を取ったか\n",
    "- poutcome: 過去にこのキャンペーンで連絡を取って定期預金をして貰えたことがあるかどうか(categorical: 'failure','nonexistent','success')\n",
    "\n",
    "- y(ターゲット): 定期預金をしているかどうか(binary: 'yes','no')\n"
   ]
  },
  {
   "cell_type": "code",
   "execution_count": 1,
   "id": "2d2be8b6",
   "metadata": {},
   "outputs": [],
   "source": [
    "#1\n",
    "%%capture\n",
    "%load_ext sql"
   ]
  },
  {
   "cell_type": "code",
   "execution_count": 2,
   "id": "1ce0a8d3",
   "metadata": {},
   "outputs": [],
   "source": [
    "#2\n",
    "%%sql\n",
    "postgresql:///bank"
   ]
  },
  {
   "cell_type": "code",
   "execution_count": 3,
   "id": "6cabd1cf",
   "metadata": {},
   "outputs": [
    {
     "name": "stdout",
     "output_type": "stream",
     "text": [
      " * postgresql:///bank\n",
      "5 rows affected.\n"
     ]
    },
    {
     "data": {
      "text/html": [
       "<table>\n",
       "    <tr>\n",
       "        <th>id</th>\n",
       "        <th>age</th>\n",
       "        <th>job</th>\n",
       "        <th>marital</th>\n",
       "        <th>education</th>\n",
       "        <th>default_</th>\n",
       "        <th>balance</th>\n",
       "        <th>housing</th>\n",
       "        <th>loan</th>\n",
       "        <th>contact</th>\n",
       "        <th>day</th>\n",
       "        <th>month</th>\n",
       "        <th>duration</th>\n",
       "        <th>aign</th>\n",
       "        <th>pdays</th>\n",
       "        <th>previous</th>\n",
       "        <th>poutcome</th>\n",
       "        <th>y</th>\n",
       "    </tr>\n",
       "    <tr>\n",
       "        <td>1</td>\n",
       "        <td>58</td>\n",
       "        <td>management</td>\n",
       "        <td>married</td>\n",
       "        <td>tertiary</td>\n",
       "        <td>no</td>\n",
       "        <td>2143</td>\n",
       "        <td>yes</td>\n",
       "        <td>no</td>\n",
       "        <td>unknown</td>\n",
       "        <td>5</td>\n",
       "        <td>may</td>\n",
       "        <td>261</td>\n",
       "        <td>1</td>\n",
       "        <td>-1</td>\n",
       "        <td>0</td>\n",
       "        <td>unknown</td>\n",
       "        <td>no</td>\n",
       "    </tr>\n",
       "    <tr>\n",
       "        <td>2</td>\n",
       "        <td>44</td>\n",
       "        <td>technician</td>\n",
       "        <td>single</td>\n",
       "        <td>secondary</td>\n",
       "        <td>no</td>\n",
       "        <td>29</td>\n",
       "        <td>yes</td>\n",
       "        <td>no</td>\n",
       "        <td>unknown</td>\n",
       "        <td>5</td>\n",
       "        <td>may</td>\n",
       "        <td>151</td>\n",
       "        <td>1</td>\n",
       "        <td>-1</td>\n",
       "        <td>0</td>\n",
       "        <td>unknown</td>\n",
       "        <td>no</td>\n",
       "    </tr>\n",
       "    <tr>\n",
       "        <td>3</td>\n",
       "        <td>33</td>\n",
       "        <td>entrepreneur</td>\n",
       "        <td>married</td>\n",
       "        <td>secondary</td>\n",
       "        <td>no</td>\n",
       "        <td>2</td>\n",
       "        <td>yes</td>\n",
       "        <td>yes</td>\n",
       "        <td>unknown</td>\n",
       "        <td>5</td>\n",
       "        <td>may</td>\n",
       "        <td>76</td>\n",
       "        <td>1</td>\n",
       "        <td>-1</td>\n",
       "        <td>0</td>\n",
       "        <td>unknown</td>\n",
       "        <td>no</td>\n",
       "    </tr>\n",
       "    <tr>\n",
       "        <td>4</td>\n",
       "        <td>47</td>\n",
       "        <td>blue-collar</td>\n",
       "        <td>married</td>\n",
       "        <td>unknown</td>\n",
       "        <td>no</td>\n",
       "        <td>1506</td>\n",
       "        <td>yes</td>\n",
       "        <td>no</td>\n",
       "        <td>unknown</td>\n",
       "        <td>5</td>\n",
       "        <td>may</td>\n",
       "        <td>92</td>\n",
       "        <td>1</td>\n",
       "        <td>-1</td>\n",
       "        <td>0</td>\n",
       "        <td>unknown</td>\n",
       "        <td>no</td>\n",
       "    </tr>\n",
       "    <tr>\n",
       "        <td>5</td>\n",
       "        <td>33</td>\n",
       "        <td>unknown</td>\n",
       "        <td>single</td>\n",
       "        <td>unknown</td>\n",
       "        <td>no</td>\n",
       "        <td>1</td>\n",
       "        <td>no</td>\n",
       "        <td>no</td>\n",
       "        <td>unknown</td>\n",
       "        <td>5</td>\n",
       "        <td>may</td>\n",
       "        <td>198</td>\n",
       "        <td>1</td>\n",
       "        <td>-1</td>\n",
       "        <td>0</td>\n",
       "        <td>unknown</td>\n",
       "        <td>no</td>\n",
       "    </tr>\n",
       "</table>"
      ],
      "text/plain": [
       "[(1, 58, 'management', 'married', 'tertiary', 'no', 2143, 'yes', 'no', 'unknown', 5, 'may', 261, 1, -1, 0, 'unknown', 'no'),\n",
       " (2, 44, 'technician', 'single', 'secondary', 'no', 29, 'yes', 'no', 'unknown', 5, 'may', 151, 1, -1, 0, 'unknown', 'no'),\n",
       " (3, 33, 'entrepreneur', 'married', 'secondary', 'no', 2, 'yes', 'yes', 'unknown', 5, 'may', 76, 1, -1, 0, 'unknown', 'no'),\n",
       " (4, 47, 'blue-collar', 'married', 'unknown', 'no', 1506, 'yes', 'no', 'unknown', 5, 'may', 92, 1, -1, 0, 'unknown', 'no'),\n",
       " (5, 33, 'unknown', 'single', 'unknown', 'no', 1, 'no', 'no', 'unknown', 5, 'may', 198, 1, -1, 0, 'unknown', 'no')]"
      ]
     },
     "execution_count": 3,
     "metadata": {},
     "output_type": "execute_result"
    }
   ],
   "source": [
    "#3\n",
    "#データセットを確認\n",
    "%%sql\n",
    "\n",
    "SELECT * FROM bank Limit  5;"
   ]
  },
  {
   "cell_type": "code",
   "execution_count": 4,
   "id": "b44e2a89",
   "metadata": {},
   "outputs": [
    {
     "name": "stdout",
     "output_type": "stream",
     "text": [
      " * postgresql:///bank\n",
      "2 rows affected.\n"
     ]
    },
    {
     "data": {
      "text/html": [
       "<table>\n",
       "    <tr>\n",
       "        <th>y</th>\n",
       "        <th>count</th>\n",
       "        <th>percentage</th>\n",
       "    </tr>\n",
       "    <tr>\n",
       "        <td>no</td>\n",
       "        <td>39922</td>\n",
       "        <td>0.88</td>\n",
       "    </tr>\n",
       "    <tr>\n",
       "        <td>yes</td>\n",
       "        <td>5289</td>\n",
       "        <td>0.12</td>\n",
       "    </tr>\n",
       "</table>"
      ],
      "text/plain": [
       "[('no', 39922, Decimal('0.88')), ('yes', 5289, Decimal('0.12'))]"
      ]
     },
     "execution_count": 4,
     "metadata": {},
     "output_type": "execute_result"
    }
   ],
   "source": [
    "#4\n",
    "#ターゲット('y')を確認\n",
    "%%sql\n",
    "WITH bank_y AS(\n",
    "SELECT\n",
    "    y,\n",
    "    COUNT(*) as COUNT\n",
    "FROM bank\n",
    "GROUP BY y)\n",
    "\n",
    "SELECT\n",
    "     y,\n",
    "    count,\n",
    "    ROUND(count / (SELECT SUM(count) FROM bank_y), 2) as percentage\n",
    "FROM bank_y;"
   ]
  },
  {
   "cell_type": "code",
   "execution_count": 130,
   "id": "8f503200",
   "metadata": {},
   "outputs": [
    {
     "name": "stdout",
     "output_type": "stream",
     "text": [
      " * postgresql:///bank\n",
      "2 rows affected.\n"
     ]
    },
    {
     "data": {
      "text/html": [
       "<table>\n",
       "    <tr>\n",
       "        <th>y</th>\n",
       "        <th>avg_age</th>\n",
       "        <th>avg_balance</th>\n",
       "        <th>avg_duration</th>\n",
       "    </tr>\n",
       "    <tr>\n",
       "        <td>no</td>\n",
       "        <td>40.84</td>\n",
       "        <td>1303.71</td>\n",
       "        <td>221.18</td>\n",
       "    </tr>\n",
       "    <tr>\n",
       "        <td>yes</td>\n",
       "        <td>41.67</td>\n",
       "        <td>1804.27</td>\n",
       "        <td>537.29</td>\n",
       "    </tr>\n",
       "</table>"
      ],
      "text/plain": [
       "[('no', Decimal('40.84'), Decimal('1303.71'), Decimal('221.18')),\n",
       " ('yes', Decimal('41.67'), Decimal('1804.27'), Decimal('537.29'))]"
      ]
     },
     "execution_count": 130,
     "metadata": {},
     "output_type": "execute_result"
    }
   ],
   "source": [
    "#5\n",
    "#ターゲット('y')と'age','balence','duration'の平均の関係を確認\n",
    "%%sql\n",
    "\n",
    "SELECT\n",
    "    y,\n",
    "    ROUND(AVG(age), 2) as avg_age,\n",
    "    ROUND(AVG(balance), 2) as avg_balance,\n",
    "    ROUND(AVG(duration), 2) as avg_duration\n",
    "FROM bank\n",
    "GROUP BY y;"
   ]
  },
  {
   "cell_type": "code",
   "execution_count": 47,
   "id": "a7549760",
   "metadata": {},
   "outputs": [
    {
     "name": "stdout",
     "output_type": "stream",
     "text": [
      " * postgresql:///bank\n",
      "2 rows affected.\n"
     ]
    },
    {
     "data": {
      "text/html": [
       "<table>\n",
       "    <tr>\n",
       "        <th>y</th>\n",
       "        <th>age_20s</th>\n",
       "        <th>age_30s</th>\n",
       "        <th>age_40s</th>\n",
       "        <th>age_50s</th>\n",
       "        <th>age_over_60</th>\n",
       "    </tr>\n",
       "    <tr>\n",
       "        <td>no</td>\n",
       "        <td>4345</td>\n",
       "        <td>16176</td>\n",
       "        <td>10592</td>\n",
       "        <td>7625</td>\n",
       "        <td>1184</td>\n",
       "    </tr>\n",
       "    <tr>\n",
       "        <td>yes</td>\n",
       "        <td>928</td>\n",
       "        <td>1913</td>\n",
       "        <td>1063</td>\n",
       "        <td>785</td>\n",
       "        <td>600</td>\n",
       "    </tr>\n",
       "</table>"
      ],
      "text/plain": [
       "[('no', 4345, 16176, 10592, 7625, 1184), ('yes', 928, 1913, 1063, 785, 600)]"
      ]
     },
     "execution_count": 47,
     "metadata": {},
     "output_type": "execute_result"
    }
   ],
   "source": [
    "#6\n",
    "#'age'を各世代にグループ分けして'y'との関係を確認する(yesとnoのカウントを確認する)\n",
    "%%sql\n",
    "\n",
    "SELECT\n",
    "    bk.y,\n",
    "    (SELECT COUNT(*) FROM bank as sub_bk\n",
    "      WHERE sub_bk.age < 30 AND bk.y = sub_bk.y) as age_20s,\n",
    "    (SELECT COUNT(*) FROM bank as sub_bk\n",
    "      WHERE sub_bk.age > 29 AND sub_bk.age < 40  AND bk.y = sub_bk.y) as age_30s,\n",
    "    (SELECT COUNT(*) FROM bank as sub_bk\n",
    "      WHERE sub_bk.age > 39 AND sub_bk.age < 50  AND bk.y = sub_bk.y) as age_40s,\n",
    "    (SELECT COUNT(*) FROM bank as sub_bk\n",
    "      WHERE sub_bk.age > 49 AND sub_bk.age < 60  AND bk.y = sub_bk.y) as age_50s,\n",
    "    (SELECT COUNT(*) FROM bank as sub_bk\n",
    "      WHERE sub_bk.age > 59 AND bk.y = sub_bk.y) as age_over_60\n",
    "FROM bank as bk\n",
    "GROUP BY y;"
   ]
  },
  {
   "cell_type": "code",
   "execution_count": 103,
   "id": "807479bf",
   "metadata": {},
   "outputs": [
    {
     "name": "stdout",
     "output_type": "stream",
     "text": [
      " * postgresql:///bank\n",
      "1 rows affected.\n"
     ]
    },
    {
     "data": {
      "text/html": [
       "<table>\n",
       "    <tr>\n",
       "        <th>age_20s_yes_percent</th>\n",
       "        <th>age_30s_yes_percent</th>\n",
       "        <th>age_40s_yes_percent</th>\n",
       "        <th>age_50s_yes_percent</th>\n",
       "        <th>age_60s_yes_percent</th>\n",
       "    </tr>\n",
       "    <tr>\n",
       "        <td>0.18</td>\n",
       "        <td>0.11</td>\n",
       "        <td>0.09</td>\n",
       "        <td>0.09</td>\n",
       "        <td>0.34</td>\n",
       "    </tr>\n",
       "</table>"
      ],
      "text/plain": [
       "[(Decimal('0.18'), Decimal('0.11'), Decimal('0.09'), Decimal('0.09'), Decimal('0.34'))]"
      ]
     },
     "execution_count": 103,
     "metadata": {},
     "output_type": "execute_result"
    }
   ],
   "source": [
    "#7\n",
    "#'age'を各世代にグループ分けして'y'との関係を確認する(yes(定期預金をしている人)の割合を確認する)\n",
    "%%sql\n",
    "\n",
    "WITH bank_age_group AS(\n",
    "SELECT\n",
    "    bk.y,\n",
    "    (SELECT COUNT(*) FROM bank as sub_bk\n",
    "      WHERE sub_bk.age < 30 AND bk.y = sub_bk.y) as age_20s,\n",
    "    (SELECT COUNT(*) FROM bank as sub_bk\n",
    "      WHERE sub_bk.age > 29 AND sub_bk.age < 40  AND bk.y = sub_bk.y) as age_30s,\n",
    "    (SELECT COUNT(*) FROM bank as sub_bk\n",
    "      WHERE sub_bk.age > 39 AND sub_bk.age < 50  AND bk.y = sub_bk.y) as age_40s,\n",
    "    (SELECT COUNT(*) FROM bank as sub_bk\n",
    "      WHERE sub_bk.age > 49 AND sub_bk.age < 60  AND bk.y = sub_bk.y) as age_50s,\n",
    "    (SELECT COUNT(*) FROM bank as sub_bk\n",
    "      WHERE sub_bk.age > 59 AND bk.y = sub_bk.y) as age_over_60\n",
    "FROM bank as bk\n",
    "GROUP BY y)\n",
    "\n",
    "SELECT \n",
    "    ROUND(age_20s / (SELECT SUM(age_20s) FROM bank_age_group), 2)  as age_20s_yes_percent ,\n",
    "    ROUND(age_30s / (SELECT SUM(age_30s) FROM bank_age_group), 2)  as age_30s_yes_percent ,\n",
    "    ROUND(age_40s / (SELECT SUM(age_40s) FROM bank_age_group), 2)  as age_40s_yes_percent ,\n",
    "    ROUND(age_50s / (SELECT SUM(age_50s) FROM bank_age_group), 2)  as age_50s_yes_percent ,\n",
    "    ROUND(age_over_60 / (SELECT SUM(age_over_60) FROM bank_age_group), 2)  as age_60s_yes_percent \n",
    "FROM bank_age_group\n",
    "WHERE y = 'yes';"
   ]
  },
  {
   "cell_type": "code",
   "execution_count": 132,
   "id": "90df41df",
   "metadata": {},
   "outputs": [
    {
     "name": "stdout",
     "output_type": "stream",
     "text": [
      " * postgresql:///bank\n",
      "12 rows affected.\n"
     ]
    },
    {
     "data": {
      "text/html": [
       "<table>\n",
       "    <tr>\n",
       "        <th>job</th>\n",
       "        <th>y_yes</th>\n",
       "        <th>y_no</th>\n",
       "        <th>yes_percentage</th>\n",
       "    </tr>\n",
       "    <tr>\n",
       "        <td>retired</td>\n",
       "        <td>516</td>\n",
       "        <td>1748</td>\n",
       "        <td>0.23</td>\n",
       "    </tr>\n",
       "    <tr>\n",
       "        <td>housemaid</td>\n",
       "        <td>109</td>\n",
       "        <td>1131</td>\n",
       "        <td>0.09</td>\n",
       "    </tr>\n",
       "    <tr>\n",
       "        <td>admin.</td>\n",
       "        <td>631</td>\n",
       "        <td>4540</td>\n",
       "        <td>0.12</td>\n",
       "    </tr>\n",
       "    <tr>\n",
       "        <td>management</td>\n",
       "        <td>1301</td>\n",
       "        <td>8157</td>\n",
       "        <td>0.14</td>\n",
       "    </tr>\n",
       "    <tr>\n",
       "        <td>blue-collar</td>\n",
       "        <td>708</td>\n",
       "        <td>9024</td>\n",
       "        <td>0.07</td>\n",
       "    </tr>\n",
       "    <tr>\n",
       "        <td>entrepreneur</td>\n",
       "        <td>123</td>\n",
       "        <td>1364</td>\n",
       "        <td>0.08</td>\n",
       "    </tr>\n",
       "    <tr>\n",
       "        <td>services</td>\n",
       "        <td>369</td>\n",
       "        <td>3785</td>\n",
       "        <td>0.09</td>\n",
       "    </tr>\n",
       "    <tr>\n",
       "        <td>technician</td>\n",
       "        <td>840</td>\n",
       "        <td>6757</td>\n",
       "        <td>0.11</td>\n",
       "    </tr>\n",
       "    <tr>\n",
       "        <td>unknown</td>\n",
       "        <td>34</td>\n",
       "        <td>254</td>\n",
       "        <td>0.12</td>\n",
       "    </tr>\n",
       "    <tr>\n",
       "        <td>self-employed</td>\n",
       "        <td>187</td>\n",
       "        <td>1392</td>\n",
       "        <td>0.12</td>\n",
       "    </tr>\n",
       "    <tr>\n",
       "        <td>student</td>\n",
       "        <td>269</td>\n",
       "        <td>669</td>\n",
       "        <td>0.29</td>\n",
       "    </tr>\n",
       "    <tr>\n",
       "        <td>unemployed</td>\n",
       "        <td>202</td>\n",
       "        <td>1101</td>\n",
       "        <td>0.16</td>\n",
       "    </tr>\n",
       "</table>"
      ],
      "text/plain": [
       "[('retired', 516, 1748, Decimal('0.23')),\n",
       " ('housemaid', 109, 1131, Decimal('0.09')),\n",
       " ('admin.', 631, 4540, Decimal('0.12')),\n",
       " ('management', 1301, 8157, Decimal('0.14')),\n",
       " ('blue-collar', 708, 9024, Decimal('0.07')),\n",
       " ('entrepreneur', 123, 1364, Decimal('0.08')),\n",
       " ('services', 369, 3785, Decimal('0.09')),\n",
       " ('technician', 840, 6757, Decimal('0.11')),\n",
       " ('unknown', 34, 254, Decimal('0.12')),\n",
       " ('self-employed', 187, 1392, Decimal('0.12')),\n",
       " ('student', 269, 669, Decimal('0.29')),\n",
       " ('unemployed', 202, 1101, Decimal('0.16'))]"
      ]
     },
     "execution_count": 132,
     "metadata": {},
     "output_type": "execute_result"
    }
   ],
   "source": [
    "#8\n",
    "#各職業ごとのyとの関係を確認する\n",
    "%%sql\n",
    "\n",
    "SELECT job, \n",
    "              COUNT(CASE WHEN y = 'yes' THEN id END) AS y_yes,\n",
    "              COUNT(CASE WHEN y = 'no' THEN id END) AS y_no,\n",
    "              ROUND(AVG(CASE WHEN y = 'yes' THEN 1\n",
    "                                 WHEN y = 'no' THEN 0\n",
    "                                 END), 2) AS yes_percentage\n",
    "FROM bank\n",
    "GROUP BY job;"
   ]
  },
  {
   "cell_type": "code",
   "execution_count": 139,
   "id": "86a6b1c4",
   "metadata": {},
   "outputs": [
    {
     "name": "stdout",
     "output_type": "stream",
     "text": [
      " * postgresql:///bank\n",
      "2 rows affected.\n"
     ]
    },
    {
     "data": {
      "text/html": [
       "<table>\n",
       "    <tr>\n",
       "        <th>housing</th>\n",
       "        <th>count</th>\n",
       "        <th>y_yes</th>\n",
       "        <th>y_no</th>\n",
       "        <th>yes_percentage</th>\n",
       "    </tr>\n",
       "    <tr>\n",
       "        <td>no</td>\n",
       "        <td>20081</td>\n",
       "        <td>3354</td>\n",
       "        <td>16727</td>\n",
       "        <td>0.17</td>\n",
       "    </tr>\n",
       "    <tr>\n",
       "        <td>yes</td>\n",
       "        <td>25130</td>\n",
       "        <td>1935</td>\n",
       "        <td>23195</td>\n",
       "        <td>0.08</td>\n",
       "    </tr>\n",
       "</table>"
      ],
      "text/plain": [
       "[('no', 20081, 3354, 16727, Decimal('0.17')),\n",
       " ('yes', 25130, 1935, 23195, Decimal('0.08'))]"
      ]
     },
     "execution_count": 139,
     "metadata": {},
     "output_type": "execute_result"
    }
   ],
   "source": [
    "#9\n",
    "#'housing'(住宅ローン)とyの関係を確認する\n",
    "%%sql\n",
    "\n",
    "SELECT\n",
    "    housing,\n",
    "    COUNT(*) as count,\n",
    "    COUNT(CASE WHEN y = 'yes' THEN id END) AS y_yes,\n",
    "    COUNT(CASE WHEN y = 'no' THEN id END) AS y_no,\n",
    "    ROUND(AVG(CASE WHEN y = 'yes' THEN 1\n",
    "                                 WHEN y = 'no' THEN 0\n",
    "                                 END), 2) AS yes_percentage\n",
    "FROM bank\n",
    "GROUP BY housing;"
   ]
  },
  {
   "cell_type": "code",
   "execution_count": 140,
   "id": "62e4e013",
   "metadata": {},
   "outputs": [
    {
     "name": "stdout",
     "output_type": "stream",
     "text": [
      " * postgresql:///bank\n",
      "2 rows affected.\n"
     ]
    },
    {
     "data": {
      "text/html": [
       "<table>\n",
       "    <tr>\n",
       "        <th>loan</th>\n",
       "        <th>count</th>\n",
       "        <th>y_yes</th>\n",
       "        <th>y_no</th>\n",
       "        <th>yes_percentage</th>\n",
       "    </tr>\n",
       "    <tr>\n",
       "        <td>no</td>\n",
       "        <td>37967</td>\n",
       "        <td>4805</td>\n",
       "        <td>33162</td>\n",
       "        <td>0.13</td>\n",
       "    </tr>\n",
       "    <tr>\n",
       "        <td>yes</td>\n",
       "        <td>7244</td>\n",
       "        <td>484</td>\n",
       "        <td>6760</td>\n",
       "        <td>0.07</td>\n",
       "    </tr>\n",
       "</table>"
      ],
      "text/plain": [
       "[('no', 37967, 4805, 33162, Decimal('0.13')),\n",
       " ('yes', 7244, 484, 6760, Decimal('0.07'))]"
      ]
     },
     "execution_count": 140,
     "metadata": {},
     "output_type": "execute_result"
    }
   ],
   "source": [
    "#10\n",
    "#'loan'(個人ローン)とyの関係を確認する\n",
    "%%sql\n",
    "\n",
    "SELECT\n",
    "    loan,\n",
    "    COUNT(*) as count,\n",
    "    COUNT(CASE WHEN y = 'yes' THEN id END) AS y_yes,\n",
    "    COUNT(CASE WHEN y = 'no' THEN id END) AS y_no,\n",
    "    ROUND(AVG(CASE WHEN y = 'yes' THEN 1\n",
    "                                 WHEN y = 'no' THEN 0\n",
    "                                 END), 2) AS yes_percentage\n",
    "FROM bank\n",
    "GROUP BY loan;"
   ]
  },
  {
   "cell_type": "code",
   "execution_count": 141,
   "id": "e76fdf46",
   "metadata": {},
   "outputs": [
    {
     "name": "stdout",
     "output_type": "stream",
     "text": [
      " * postgresql:///bank\n",
      "2 rows affected.\n"
     ]
    },
    {
     "data": {
      "text/html": [
       "<table>\n",
       "    <tr>\n",
       "        <th>y</th>\n",
       "        <th>housing_no_loan_no</th>\n",
       "        <th>housing_no_loan_yes</th>\n",
       "        <th>housing_yes_loan_no</th>\n",
       "        <th>housing_yes_loan_yes</th>\n",
       "    </tr>\n",
       "    <tr>\n",
       "        <td>no</td>\n",
       "        <td>14069</td>\n",
       "        <td>2658</td>\n",
       "        <td>19093</td>\n",
       "        <td>19093</td>\n",
       "    </tr>\n",
       "    <tr>\n",
       "        <td>yes</td>\n",
       "        <td>3135</td>\n",
       "        <td>219</td>\n",
       "        <td>1670</td>\n",
       "        <td>1670</td>\n",
       "    </tr>\n",
       "</table>"
      ],
      "text/plain": [
       "[('no', 14069, 2658, 19093, 19093), ('yes', 3135, 219, 1670, 1670)]"
      ]
     },
     "execution_count": 141,
     "metadata": {},
     "output_type": "execute_result"
    }
   ],
   "source": [
    "#11\n",
    "#'housing'(住宅ローン)と'loan'(個人ローン)を掛け合わせた特徴量とyの関係を確認する(yesとnoのカウントを確認する)\n",
    "%%sql\n",
    "\n",
    "SELECT\n",
    "    bk.y,\n",
    "    (SELECT COUNT(*) FROM bank as sub_bk\n",
    "      WHERE sub_bk.housing = 'no' AND sub_bk.loan = 'no' AND bk.y = sub_bk.y) as housing_no_loan_no,\n",
    "    (SELECT COUNT(*) FROM bank as sub_bk\n",
    "      WHERE sub_bk.housing = 'no' AND sub_bk.loan = 'yes' AND bk.y = sub_bk.y) as housing_no_loan_yes,\n",
    "    (SELECT COUNT(*) FROM bank as sub_bk\n",
    "      WHERE sub_bk.housing = 'yes' AND sub_bk.loan = 'no' AND bk.y = sub_bk.y) as housing_yes_loan_no,\n",
    "    (SELECT COUNT(*) FROM bank as sub_bk\n",
    "      WHERE sub_bk.housing = 'yes' AND sub_bk.loan = 'no'  AND bk.y = sub_bk.y) as housing_yes_loan_yes\n",
    "FROM bank as bk\n",
    "GROUP BY y;"
   ]
  },
  {
   "cell_type": "code",
   "execution_count": 159,
   "id": "e7a3a25c",
   "metadata": {},
   "outputs": [
    {
     "name": "stdout",
     "output_type": "stream",
     "text": [
      " * postgresql:///bank\n",
      "1 rows affected.\n"
     ]
    },
    {
     "data": {
      "text/html": [
       "<table>\n",
       "    <tr>\n",
       "        <th>housing_no_loan_no_yes_percent</th>\n",
       "        <th>housing_no_loan_yes_yes_percent</th>\n",
       "        <th>housing_yes_loan_no_yes_percent</th>\n",
       "        <th>housing_yes_loan_yes_yes_percent</th>\n",
       "    </tr>\n",
       "    <tr>\n",
       "        <td>0.18</td>\n",
       "        <td>0.08</td>\n",
       "        <td>0.08</td>\n",
       "        <td>0.06</td>\n",
       "    </tr>\n",
       "</table>"
      ],
      "text/plain": [
       "[(Decimal('0.18'), Decimal('0.08'), Decimal('0.08'), Decimal('0.06'))]"
      ]
     },
     "execution_count": 159,
     "metadata": {},
     "output_type": "execute_result"
    }
   ],
   "source": [
    "#12\n",
    "#'housing'(住宅ローン)と'loan'(個人ローン)を掛け合わせた特徴量とyの関係を確認する(yes(定期預金をしている人)の割合を確認する)\n",
    "%%sql\n",
    "\n",
    "WITH bank_loan_group AS(\n",
    "    SELECT\n",
    "    bk.y,\n",
    "    (SELECT COUNT(*) FROM bank as sub_bk\n",
    "      WHERE sub_bk.housing = 'no' AND sub_bk.loan = 'no' AND bk.y = sub_bk.y) as housing_no_loan_no,\n",
    "    (SELECT COUNT(*) FROM bank as sub_bk\n",
    "      WHERE sub_bk.housing = 'no' AND sub_bk.loan = 'yes' AND bk.y = sub_bk.y) as housing_no_loan_yes,\n",
    "    (SELECT COUNT(*) FROM bank as sub_bk\n",
    "      WHERE sub_bk.housing = 'yes' AND sub_bk.loan = 'no' AND bk.y = sub_bk.y) as housing_yes_loan_no,\n",
    "    (SELECT COUNT(*) FROM bank as sub_bk\n",
    "      WHERE sub_bk.housing = 'yes' AND sub_bk.loan = 'yes'  AND bk.y = sub_bk.y) as housing_yes_loan_yes\n",
    "    FROM bank as bk\n",
    "    GROUP BY y\n",
    ")\n",
    "\n",
    "SELECT \n",
    "    ROUND(housing_no_loan_no / (SELECT SUM(housing_no_loan_no) FROM bank_loan_group), 2)  as housing_no_loan_no_yes_percent,\n",
    "    ROUND(housing_no_loan_yes / (SELECT SUM(housing_no_loan_yes) FROM bank_loan_group), 2)  as housing_no_loan_yes_yes_percent,\n",
    "    ROUND(housing_yes_loan_no / (SELECT SUM(housing_yes_loan_no) FROM bank_loan_group), 2)  as housing_yes_loan_no_yes_percent,\n",
    "    ROUND(housing_yes_loan_yes / (SELECT SUM(housing_yes_loan_yes) FROM bank_loan_group), 2)  as housing_yes_loan_yes_yes_percent\n",
    "FROM bank_loan_group\n",
    "WHERE y = 'yes';"
   ]
  }
 ],
 "metadata": {
  "interpreter": {
   "hash": "85094c22a70d9a920ae9c057df293a164b47efdeb27f1fcd1eefac4aefb23a40"
  },
  "kernelspec": {
   "display_name": "kaggle_3",
   "language": "python",
   "name": "kaggle_3"
  },
  "language_info": {
   "codemirror_mode": {
    "name": "ipython",
    "version": 3
   },
   "file_extension": ".py",
   "mimetype": "text/x-python",
   "name": "python",
   "nbconvert_exporter": "python",
   "pygments_lexer": "ipython3",
   "version": "3.8.11"
  }
 },
 "nbformat": 4,
 "nbformat_minor": 5
}
